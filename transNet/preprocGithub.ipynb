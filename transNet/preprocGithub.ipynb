version https://git-lfs.github.com/spec/v1
oid sha256:8839fb3a00de64442fbbb8b950be687e213006213bb358ec37e8439fa0d1ee11
size 34288
