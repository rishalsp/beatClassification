version https://git-lfs.github.com/spec/v1
oid sha256:d63b4ee1ece557a3a7a150cc52acfde08b5240822529df5b7cb63fab1eec8014
size 589
