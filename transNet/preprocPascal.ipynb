version https://git-lfs.github.com/spec/v1
oid sha256:99dc0c8b839ad86771b57e92fbc07cf93599a1b8f92a3c955415cc200e61d05e
size 79015
