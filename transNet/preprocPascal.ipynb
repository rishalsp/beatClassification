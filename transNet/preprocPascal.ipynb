version https://git-lfs.github.com/spec/v1
oid sha256:8c8e695aa456b40a9c50107ec846b35d7722ce74d88252bfbb5c2f2a44e22658
size 77471
