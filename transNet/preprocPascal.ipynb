version https://git-lfs.github.com/spec/v1
oid sha256:b5d06824e107a773107fb061425372328ef2d0a771c086a9c1e0707ebfdc9822
size 78785
