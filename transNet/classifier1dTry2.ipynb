version https://git-lfs.github.com/spec/v1
oid sha256:1110a02afbf0320197ca9a94f1e08d754e3f8b3e677f17db03dd14bc07af59b0
size 40844
