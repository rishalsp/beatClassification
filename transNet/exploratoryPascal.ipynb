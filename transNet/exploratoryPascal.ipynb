version https://git-lfs.github.com/spec/v1
oid sha256:33c518f9e540ae0eac8067aa280b4284a53312a87bfc93fa6e0fee3839e93382
size 609133
