version https://git-lfs.github.com/spec/v1
oid sha256:39cbce04af289b10cea4047f7a9258a6fba1c2fe770e18951f95e5ef3aa843b4
size 259348
