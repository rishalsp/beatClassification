version https://git-lfs.github.com/spec/v1
oid sha256:580471f77295f14ee3ea6ce758a0d3cb442dd7d0fd495781f8ff44061ce6ae2d
size 22798
