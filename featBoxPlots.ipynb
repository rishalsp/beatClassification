version https://git-lfs.github.com/spec/v1
oid sha256:c3da88270ab9792d6fafd3ac9aee83421e2d31ff241a31712eb928a76c4f64ce
size 192457
